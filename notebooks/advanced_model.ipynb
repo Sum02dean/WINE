{
 "cells": [
  {
   "cell_type": "code",
   "execution_count": 7,
   "metadata": {},
   "outputs": [],
   "source": [
    "import numpy as np\n",
    "import torch\n",
    "import pandas as pd\n",
    "import sklearn\n",
    "import torch\n",
    "import torch.nn as nn\n",
    "import torch.nn.functional as F\n",
    "from torch.optim import rmsprop, adam, SGD\n",
    "from torch.nn.functional import one_hot\n",
    "from torch.nn import CrossEntropyLoss, BCEWithLogitsLoss\n",
    "from torch.optim.lr_scheduler import ReduceLROnPlateau\n",
    "from torch.utils.data import Dataset, DataLoader\n",
    "from sklearn.metrics import roc_auc_score\n",
    "from sklearn.metrics import RocCurveDisplay\n",
    "import matplotlib.pyplot as plt"
   ]
  },
  {
   "cell_type": "code",
   "execution_count": 8,
   "metadata": {},
   "outputs": [
    {
     "name": "stdout",
     "output_type": "stream",
     "text": [
      "cpu\n"
     ]
    }
   ],
   "source": [
    "# Set the device\n",
    "use_cuda = torch.cuda.is_available()\n",
    "device = torch.device(\"cuda:0\" if use_cuda else \"cpu\")\n",
    "torch.backends.cudnn.benchmark = True\n",
    "print(device)"
   ]
  },
  {
   "cell_type": "code",
   "execution_count": 9,
   "metadata": {},
   "outputs": [],
   "source": [
    "class LayerBlock(nn.Module):\n",
    "    # Create a single layer block consisting of linear, optional batchnorm and leakyrelu\n",
    "    def __init__(self, input_neurons, output_neurons, batch_norm=False, final_layer=False):\n",
    "        super().__init__()\n",
    "        \n",
    "        self.inp = input_neurons\n",
    "        self.out = output_neurons\n",
    "        self.batch_norm = batch_norm\n",
    "        self.final_layer = final_layer\n",
    "\n",
    "        self.linear = nn.Linear(self.inp, self.out) \n",
    "        if self.batch_norm == True:\n",
    "            self.bn = nn.BatchNorm1d(self.out) \n",
    "            \n",
    "        self.act = nn.LeakyReLU() if self.final_layer == False else nn.Sigmoid()\n",
    "        \n",
    "        \n",
    "    def forward(self, x):\n",
    "        x = self.linear(x)\n",
    "\n",
    "        if self.batch_norm == True:\n",
    "            x = self.bn(x)\n",
    "            \n",
    "        x = self.act(x)\n",
    "        return x\n",
    "        \n",
    "class ModuleNet(nn.Module):\n",
    "    # Will iterate over each module in module list and make full forward pass\n",
    "    def __init__(self, module_list):\n",
    "        super().__init__()\n",
    "        self.mods = module_list\n",
    "        # self.sig = nn.Sigmoid()\n",
    "\n",
    "    def forward(self, x):\n",
    "        # ModuleList can act as an iterable, or be indexed using ints\n",
    "        for i, l in enumerate(self.mods):\n",
    "            x = l(x) \n",
    "        return x\n",
    "\n",
    "class MyDataset(torch.utils.data.Dataset):\n",
    "    def __init__(self, features, labels):\n",
    "        self.labels = labels\n",
    "        self.features = features\n",
    "    \n",
    "    def __len__(self):\n",
    "        'Denotes the total number of samples'\n",
    "        return np.shape(self.features)[0]\n",
    "\n",
    "    def __getitem__(self, index):\n",
    "        'Generates one sample of data'\n",
    "        x = self.features[index]\n",
    "        y = self.labels[index]\n",
    "        return x, y\n",
    "    \n",
    "class SimpleNet(nn.Module):\n",
    "\n",
    "    def __init__(self, in_dim, out_dim, final_dim):\n",
    "        super().__init__()\n",
    "        self.in_dim = in_dim\n",
    "        self.out_dim = out_dim\n",
    "        self.final_dim = final_dim\n",
    "\n",
    "        self.linear_1 = nn.Linear(self.in_dim, self.out_dim)\n",
    "        self.linear_2 = nn.Linear(self.out_dim, self.out_dim)\n",
    "        self.final_layer = nn.Linear(self.out_dim, self.final_dim)\n",
    "\n",
    "    def forward(self, x):\n",
    "        x = F.relu(self.linear_1(x))\n",
    "        x = F.relu(self.linear_2(x))\n",
    "        x = F.sigmoid(self.final_layer(x))\n",
    "        return x"
   ]
  },
  {
   "cell_type": "code",
   "execution_count": 10,
   "metadata": {},
   "outputs": [],
   "source": [
    "# Features have already been pre-processed\n",
    "train_x = pd.read_csv('/Users/sum02dean/projects/wine_challenge/WINE/data/scaled_unclipped_train_x.csv')\n",
    "test_x = pd.read_csv('/Users/sum02dean/projects/wine_challenge/WINE/data/scaled_unclipped_test_x.csv')\n",
    "\n",
    "# Labels\n",
    "train_y = pd.read_csv('/Users/sum02dean/projects/wine_challenge/WINE/data/train_y.csv')\n",
    "test_y = pd.read_csv('/Users/sum02dean/projects/wine_challenge/WINE/data/test_y.csv')\n",
    "\n",
    "# Re-balance the labels train\n",
    "train_y['class'] = 0\n",
    "train_y.loc[train_y['quality'] > 5, 'class'] = 1\n",
    "train_x['labels'] = train_y['class']\n",
    "\n",
    "train_x_bad = train_x[train_x['labels'] == 0]\n",
    "train_x_good = train_x[train_x['labels'] == 1]\n",
    "train_x_good_sample = train_x_good.sample(n=np.shape(train_x_bad)[0])\n",
    "\n",
    "# Re-balance the labels test\n",
    "test_y['class'] = 0\n",
    "test_y.loc[test_y['quality'] > 5, 'class'] = 1\n",
    "test_x['labels'] = test_y['class']\n",
    "\n",
    "test_x_bad = test_x[test_x['labels'] == 0]\n",
    "test_x_good = test_x[test_x['labels'] == 1]\n",
    "test_x_good_sample = test_x_good.sample(n=np.shape(test_x_bad)[0])\n",
    "\n",
    "\n",
    "\n",
    "# Encode (OHE) labels\n",
    "#train_ohe_y = one_hot(torch.tensor(train_y.values))\n",
    "#test_ohe_y = one_hot(torch.tensor(test_y.values))\n",
    "\n",
    "\n",
    "# Modify to binary classification\n",
    "#y2 = np.where(train_y < 5, 0, 1)\n",
    "#y3 = one_hot(torch.tensor(y2))"
   ]
  },
  {
   "cell_type": "code",
   "execution_count": 11,
   "metadata": {},
   "outputs": [
    {
     "name": "stdout",
     "output_type": "stream",
     "text": [
      "torch.Size([5197, 2])\n",
      "(5197, 13)\n"
     ]
    }
   ],
   "source": [
    "# Make the dataset balanced - train\n",
    "train_x = pd.concat([train_x_good, train_x_bad], axis=0)\n",
    "train_y = train_x.loc[:, 'labels']\n",
    "train_ohe_y = one_hot(torch.tensor(train_y.values))\n",
    "train_x = train_x.iloc[:, :-1]\n",
    "\n",
    "# Make the dataset balanced - test\n",
    "test_x = pd.concat([test_x_good, test_x_bad], axis=0)\n",
    "test_y = test_x.loc[:, 'labels']\n",
    "test_ohe_y = one_hot(torch.tensor(test_y.values))\n",
    "test_ohe_y = one_hot(torch.tensor(test_y.values))\n",
    "test_x = test_x.iloc[:, :-1]\n",
    "\n",
    "\n",
    "print(train_ohe_y.shape)\n",
    "print(train_x.shape)"
   ]
  },
  {
   "cell_type": "code",
   "execution_count": 12,
   "metadata": {},
   "outputs": [],
   "source": [
    "# Parameters\n",
    "params = {'batch_size': 64,\n",
    "          'shuffle': True, \n",
    "          'drop_last':True}\n",
    "\n",
    "# Train Dataloader\n",
    "train_dataset = MyDataset(train_x.values, train_ohe_y)\n",
    "train_dl = torch.utils.data.DataLoader(train_dataset, **params)\n",
    "\n",
    "# Test Dataloader\n",
    "test_dataset = MyDataset(test_x.values, test_ohe_y)\n",
    "test_dl = torch.utils.data.DataLoader(test_dataset, **params)\n",
    "\n"
   ]
  },
  {
   "cell_type": "code",
   "execution_count": 13,
   "metadata": {},
   "outputs": [
    {
     "data": {
      "text/plain": [
       "SimpleNet(\n",
       "  (linear_1): Linear(in_features=13, out_features=13, bias=True)\n",
       "  (linear_2): Linear(in_features=13, out_features=13, bias=True)\n",
       "  (final_layer): Linear(in_features=13, out_features=2, bias=True)\n",
       ")"
      ]
     },
     "metadata": {},
     "output_type": "display_data"
    }
   ],
   "source": [
    "# Specify input and output layers\n",
    "n_input_neurons = 13\n",
    "n_output_neurons = 2\n",
    "hidden_layers = [50, 50]\n",
    "\n",
    "# Initial input layer\n",
    "# layers = [LayerBlock(n_input_neurons, hidden_layers[0], batch_norm=False)]\n",
    "\n",
    "# Build the hidden layers\n",
    "# for layer in range(0, len(hidden_layers)):\n",
    "#     if layer == len(hidden_layers)-1:\n",
    "#         layers.append(LayerBlock(hidden_layers[layer], n_output_neurons, final_layer=False))\n",
    "#     else:\n",
    "#         layers.append(LayerBlock(hidden_layers[layer], hidden_layers[layer +1], batch_norm=False))\n",
    "\n",
    "# Convert to a Module list & build network\n",
    "# modules = nn.ModuleList(layers[:])\n",
    "#model = ModuleNet(module_list=modules)\n",
    "\n",
    "model = SimpleNet(in_dim=n_input_neurons, out_dim=n_input_neurons, final_dim=n_output_neurons)\n",
    "model = model.to(device)\n",
    "display(model)\n",
    "\n",
    "# Define the optimizers and loss function\n",
    "loss_fn = BCEWithLogitsLoss()\n",
    "optimizer = SGD(model.parameters(), lr=0.02, momentum=0.9)\n",
    "lr_scheduler = ReduceLROnPlateau(optimizer, 'min')\n"
   ]
  },
  {
   "cell_type": "code",
   "execution_count": 14,
   "metadata": {},
   "outputs": [],
   "source": [
    "# Set configurations\n",
    "max_epochs = 2000\n",
    "running_loss = 0\n",
    "\n",
    "# Loop over epochs\n",
    "model.train(True)\n",
    "for epoch_index, epoch in enumerate(range(max_epochs)):\n",
    "    \n",
    "    # Training\n",
    "    for i, data in enumerate(train_dl):\n",
    "        \n",
    "        # Get the inputs & labels\n",
    "        batch, labels = data\n",
    "        # Convert the data-types\n",
    "        batch = batch.type(torch.FloatTensor)\n",
    "        labels = labels.type(torch.FloatTensor)\n",
    "\n",
    "        # Transfer to device\n",
    "        batch, labels = batch.to(device), labels.to(device)\n",
    "\n",
    "        # Zero your gradients for every batch!\n",
    "        optimizer.zero_grad()\n",
    "\n",
    "        # Make predictions for this batch\n",
    "        outputs = model(batch)\n",
    "        #outputs = outputs.unsqueeze(1)\n",
    "\n",
    "        # Compute the loss and its gradients\n",
    "        loss = loss_fn(outputs, labels)\n",
    "        loss.backward()\n",
    "\n",
    "        # Adjust learning weights\n",
    "        optimizer.step()\n",
    "\n",
    "        # Gather data and report\n",
    "        running_loss += loss.item()\n",
    "        if i % 1000 == 999:\n",
    "            last_loss = running_loss / 1000 # loss per batch\n",
    "            print('  batch {} loss: {}'.format(i + 1, last_loss))\n",
    "            running_loss = 0.\n",
    "\n",
    "        "
   ]
  },
  {
   "cell_type": "code",
   "execution_count": 24,
   "metadata": {},
   "outputs": [],
   "source": [
    "preds = []\n",
    "targets = []\n",
    "all_logits = []\n",
    "# Predictions\n",
    "for i, data in enumerate(train_dl):\n",
    "    \n",
    "    # Get the inputs & labels\n",
    "    batch, labels = data\n",
    "\n",
    "    # Convert the data-types\n",
    "    batch = batch.type(torch.FloatTensor)\n",
    "    labels = labels.type(torch.FloatTensor)\n",
    "    \n",
    "    # Transfer to device\n",
    "    batch, labels = batch.to(device), labels.to(device)\n",
    "\n",
    "    with torch.no_grad():\n",
    "        logits = model(batch)\n",
    "        predictions = torch.where(logits > 0.5, 1, 0)\n",
    "        predictions = [np.argmax(x) for x in predictions.detach().numpy()]\n",
    "        targs = [np.argmax(x) for x in labels.detach().numpy()]\n",
    "        logits = [x[1] for x in logits.detach().numpy()]\n",
    "        preds.append(predictions)\n",
    "        targets.append(targs)\n",
    "        all_logits.append(logits)\n",
    "\n",
    "# Reformat the outputs\n",
    "all_preds = [item for sublist in preds for item in sublist]\n",
    "all_targs = [item for sublist in targets for item in sublist]\n",
    "all_logits = [item for sublist in all_logits for item in sublist] "
   ]
  },
  {
   "cell_type": "code",
   "execution_count": 25,
   "metadata": {},
   "outputs": [
    {
     "name": "stdout",
     "output_type": "stream",
     "text": [
      "Accuracy: 79.98 %\n"
     ]
    }
   ],
   "source": [
    "df = pd.DataFrame({'predictions': all_preds, 'targets':all_targs})\n",
    "df.loc[df['predictions'] == df['targets'], 'correct'] = 1\n",
    "df.loc[df['predictions'] != df['targets'], 'correct'] = 0\n",
    "\n",
    "# Report accuracy \n",
    "percentage_correct = (df['correct'].sum() / df.shape[0]) * 100\n",
    "print(f'Accuracy: {percentage_correct:.02f} %')"
   ]
  },
  {
   "cell_type": "code",
   "execution_count": 26,
   "metadata": {},
   "outputs": [],
   "source": [
    "preds_test = []\n",
    "targets_test = []\n",
    "all_logits_test = []\n",
    "# Predictions\n",
    "for i, data in enumerate(test_dl):\n",
    "    \n",
    "    # Get the inputs & labels\n",
    "    batch, labels = data\n",
    "\n",
    "    # Convert the data-types\n",
    "    batch = batch.type(torch.FloatTensor)\n",
    "    labels = labels.type(torch.FloatTensor)\n",
    "    \n",
    "    # Transfer to device\n",
    "    batch, labels = batch.to(device), labels.to(device)\n",
    "\n",
    "    with torch.no_grad():\n",
    "        logits = model(batch)\n",
    "        predictions = torch.where(logits > 0.5, 1, 0)\n",
    "        predictions = [np.argmax(x) for x in predictions.detach().numpy()]\n",
    "        targs = [np.argmax(x) for x in labels.detach().numpy()]\n",
    "        logits = [x[1] for x in logits.detach().numpy()]\n",
    "        preds_test.append(predictions)\n",
    "        targets_test.append(targs)\n",
    "        all_logits_test.append(logits)\n",
    "\n",
    "# Reformat the outputs\n",
    "all_preds_test = [item for sublist in preds_test for item in sublist]\n",
    "all_targs_test = [item for sublist in targets_test for item in sublist]\n",
    "all_logits_test = [item for sublist in all_logits_test for item in sublist] "
   ]
  },
  {
   "cell_type": "code",
   "execution_count": 27,
   "metadata": {},
   "outputs": [
    {
     "name": "stdout",
     "output_type": "stream",
     "text": [
      "Accuracy: 73.83 %\n"
     ]
    }
   ],
   "source": [
    "df_test = pd.DataFrame({'predictions': all_preds_test, 'targets':all_targs_test})\n",
    "df_test.loc[df_test['predictions'] == df_test['targets'], 'correct'] = 1\n",
    "df_test.loc[df_test['predictions'] != df_test['targets'], 'correct'] = 0\n",
    "\n",
    "# Report accuracy \n",
    "percentage_correct = (df_test['correct'].sum() / df_test.shape[0]) * 100\n",
    "print(f'Accuracy: {percentage_correct:.02f} %')\n"
   ]
  },
  {
   "cell_type": "code",
   "execution_count": 62,
   "metadata": {},
   "outputs": [
    {
     "data": {
      "image/png": "[encoded data removed]",
      "text/plain": [
       "<Figure size 800x800 with 1 Axes>"
      ]
     },
     "metadata": {},
     "output_type": "display_data"
    }
   ],
   "source": [
    "# Plot the ROC curve\n",
    "fig, axs = plt.subplots(figsize=(8,8))\n",
    "roc_auc_score(all_targs, all_logits)\n",
    "RocCurveDisplay.from_predictions(\n",
    "    all_targs,\n",
    "    all_logits,\n",
    "    name=\"Good Quality - Train\",\n",
    "    color=\"darkorange\",\n",
    "    plot_chance_level=True,\n",
    "    ax=axs\n",
    ")\n",
    "\n",
    "# Test\n",
    "roc_auc_score(all_targs_test, all_logits_test)\n",
    "RocCurveDisplay.from_predictions(\n",
    "    all_targs_test,\n",
    "    all_logits_test,\n",
    "    name=\"Good Quality - Test\",\n",
    "    color=\"blue\",\n",
    "    ax=axs\n",
    ")\n",
    "plt.axis(\"square\")\n",
    "plt.xlabel(\"False Positive Rate\")\n",
    "plt.ylabel(\"True Positive Rate\")\n",
    "plt.title(\"Binary classification of wine quality\")\n",
    "plt.legend()\n",
    "plt.show()"
   ]
  },
  {
   "cell_type": "code",
   "execution_count": null,
   "metadata": {},
   "outputs": [],
   "source": []
  }
 ],
 "metadata": {
  "kernelspec": {
   "display_name": "wine-env",
   "language": "python",
   "name": "python3"
  },
  "language_info": {
   "codemirror_mode": {
    "name": "ipython",
    "version": 3
   },
   "file_extension": ".py",
   "mimetype": "text/x-python",
   "name": "python",
   "nbconvert_exporter": "python",
   "pygments_lexer": "ipython3",
   "version": "3.11.4"
  },
  "orig_nbformat": 4
 },
 "nbformat": 4,
 "nbformat_minor": 2
}
