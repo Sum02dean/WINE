{
 "cells": [
  {
   "cell_type": "markdown",
   "metadata": {},
   "source": [
    "## Import the data"
   ]
  },
  {
   "cell_type": "code",
   "execution_count": 17,
   "metadata": {},
   "outputs": [],
   "source": [
    "import pandas as pd\n",
    "import numpy as np\n",
    "import sklearn\n",
    "import numpy as np\n",
    "import seaborn as sns\n",
    "import matplotlib.pyplot as plt\n",
    "from sklearn.model_selection import GridSearchCV\n",
    "from sklearn.ensemble import RandomForestClassifier\n",
    "from sklearn.svm import SVC\n",
    "from sklearn.metrics import accuracy_score\n",
    "from sklearn.metrics import RocCurveDisplay\n",
    "\n",
    "import numpy as np\n",
    "import torch\n",
    "import pandas as pd\n",
    "import sklearn\n",
    "import torch\n",
    "import torch.nn as nn\n",
    "import torch.nn.functional as F\n",
    "from torch.optim import rmsprop, adam, SGD\n",
    "from torch.nn.functional import one_hot\n",
    "from torch.nn import CrossEntropyLoss, BCEWithLogitsLoss\n",
    "from torch.optim.lr_scheduler import ReduceLROnPlateau\n",
    "from torch.utils.data import Dataset, DataLoader\n",
    "from sklearn.metrics import roc_auc_score\n",
    "from sklearn.metrics import RocCurveDisplay\n",
    "import matplotlib.pyplot as plt"
   ]
  },
  {
   "cell_type": "code",
   "execution_count": 29,
   "metadata": {},
   "outputs": [
    {
     "name": "stdout",
     "output_type": "stream",
     "text": [
      "(5197, 2)\n",
      "(5197, 13)\n"
     ]
    }
   ],
   "source": [
    "# Features have already been pre-processed\n",
    "train_x = pd.read_csv('/Users/sum02dean/projects/wine_challenge/WINE/data/scaled_unclipped_train_x.csv')\n",
    "test_x = pd.read_csv('/Users/sum02dean/projects/wine_challenge/WINE/data/scaled_unclipped_test_x.csv')\n",
    "\n",
    "# Labels\n",
    "train_y = pd.read_csv('/Users/sum02dean/projects/wine_challenge/WINE/data/train_y.csv')\n",
    "test_y = pd.read_csv('/Users/sum02dean/projects/wine_challenge/WINE/data/test_y.csv')\n",
    "\n",
    "# Re-balance the labels train\n",
    "train_y['class'] = 0\n",
    "train_y.loc[train_y['quality'] > 5, 'class'] = 1\n",
    "train_x['labels'] = train_y['class']\n",
    "\n",
    "train_x_bad = train_x[train_x['labels'] == 0]\n",
    "train_x_good = train_x[train_x['labels'] == 1]\n",
    "train_x_good_sample = train_x_good.sample(n=np.shape(train_x_bad)[0])\n",
    "\n",
    "# Re-balance the labels test\n",
    "test_y['class'] = 0\n",
    "test_y.loc[test_y['quality'] > 5, 'class'] = 1\n",
    "test_x['labels'] = test_y['class']\n",
    "\n",
    "test_x_bad = test_x[test_x['labels'] == 0]\n",
    "test_x_good = test_x[test_x['labels'] == 1]\n",
    "test_x_good_sample = test_x_good.sample(n=np.shape(test_x_bad)[0])\n",
    "\n",
    "# Make the dataset balanced - train\n",
    "train_x = pd.concat([train_x_good, train_x_bad], axis=0)\n",
    "train_y = train_x.loc[:, 'labels']\n",
    "train_ohe_y = one_hot(torch.tensor(train_y.values)).numpy()\n",
    "train_x = train_x.iloc[:, :-1].values\n",
    "# Make the dataset balanced - test\n",
    "test_x = pd.concat([test_x_good, test_x_bad], axis=0)\n",
    "test_y = test_x.loc[:, 'labels']\n",
    "test_ohe_y = one_hot(torch.tensor(test_y.values)).numpy()\n",
    "test_x = test_x.iloc[:, :-1].values\n",
    "\n",
    "\n",
    "print(train_ohe_y.shape)\n",
    "print(train_x.shape)"
   ]
  },
  {
   "cell_type": "code",
   "execution_count": 31,
   "metadata": {},
   "outputs": [],
   "source": [
    "# Model\n",
    "model_rf = RandomForestClassifier(n_jobs=-1, bootstrap=True)\n",
    "model_svm = SVC()\n",
    "\n",
    "# Search space\n",
    "linear_space_est = np.linspace(1, 500, 5, dtype=int)\n",
    "linear_space_dep = np.linspace(1, 20, 5, dtype=int)\n",
    "\n",
    "params_rf = {\n",
    "    'n_estimators': linear_space_est,\n",
    "    'max_depth': linear_space_dep,\n",
    "    'criterion': ['gini'],\n",
    "    'max_features' : ['sqrt', 'log2'],\n",
    "    }\n",
    "\n",
    "params_svm = {\n",
    "    'C': np.logspace(-4, 1, 5),\n",
    "    'kernel': ['rbf'],\n",
    "    'gamma': np.logspace(-4, 1, 5),\n",
    "    }\n",
    "\n",
    "# Determine classifier\n",
    "classifiers = [\n",
    "    GridSearchCV(model_svm, param_grid=params_svm, cv=5), \n",
    "    GridSearchCV(model_rf, param_grid=params_rf, cv=5)\n",
    "]\n"
   ]
  },
  {
   "cell_type": "code",
   "execution_count": 79,
   "metadata": {},
   "outputs": [
    {
     "ename": "SyntaxError",
     "evalue": "invalid syntax. Perhaps you forgot a comma? (2255700007.py, line 22)",
     "output_type": "error",
     "traceback": [
      "\u001b[0;36m  Cell \u001b[0;32mIn[79], line 22\u001b[0;36m\u001b[0m\n\u001b[0;31m    ax=axs\u001b[0m\n\u001b[0m       ^\u001b[0m\n\u001b[0;31mSyntaxError\u001b[0m\u001b[0;31m:\u001b[0m invalid syntax. Perhaps you forgot a comma?\n"
     ]
    }
   ],
   "source": [
    "fig, axs = plt.subplots(figsize=(9,9))\n",
    "diag = True\n",
    "for clf, c, in zip(classifiers, ['green', 'blue']):\n",
    "    \n",
    "    # Predict on the train set\n",
    "    trained_model = clf.fit(X=train_x, y=train_ohe_y[:, 0])\n",
    "    preds = trained_model.predict(train_x)\n",
    "    acc = accuracy_score(train_ohe_y[:, 0], preds)\n",
    "    print(acc)\n",
    "\n",
    "    # Infer on the test set\n",
    "    test_pred = trained_model.predict(test_x)\n",
    "    test_acc = accuracy_score(test_ohe_y[:, 0], test_pred)\n",
    "    print(trained_model.best_params_)\n",
    "    print(test_acc)\n",
    "\n",
    "    # svc_disp =\n",
    "    RocCurveDisplay.from_estimator(clf, test_x, test_ohe_y[:, 0],\n",
    "    name=f\"Good Quality - {clf.estimator.__class__.__name__} - Test\",\n",
    "    color=c,\n",
    "    plot_chance_level=diag,\n",
    "    ax=axs)\n",
    "    diag = False\n",
    "\n",
    "plt.axis(\"square\")\n",
    "plt.xlabel(\"False Positive Rate\")\n",
    "plt.ylabel(\"True Positive Rate\")\n",
    "plt.title(\"Binary classification of wine quality\")\n",
    "plt.legend()\n",
    "plt.show()\n"
   ]
  },
  {
   "cell_type": "code",
   "execution_count": null,
   "metadata": {},
   "outputs": [],
   "source": []
  }
 ],
 "metadata": {
  "kernelspec": {
   "display_name": "wine-env",
   "language": "python",
   "name": "python3"
  },
  "language_info": {
   "codemirror_mode": {
    "name": "ipython",
    "version": 3
   },
   "file_extension": ".py",
   "mimetype": "text/x-python",
   "name": "python",
   "nbconvert_exporter": "python",
   "pygments_lexer": "ipython3",
   "version": "3.11.4"
  },
  "orig_nbformat": 4
 },
 "nbformat": 4,
 "nbformat_minor": 2
}
